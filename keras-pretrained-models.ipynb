{
 "cells": [
  {
   "cell_type": "code",
   "execution_count": 61,
   "id": "8829ba22",
   "metadata": {},
   "outputs": [],
   "source": [
    "import matplotlib.pyplot as plt\n",
    "import numpy as np\n",
    "import scipy\n",
    "import pandas as pd\n",
    "import keras\n",
    "import tensorflow as tf\n",
    "from keras.utils import to_categorical\n",
    "from keras.preprocessing.image import ImageDataGenerator \n",
    "from keras.utils import plot_model\n",
    "from keras.models import Model\n",
    "from keras.layers import Input, Dense, Flatten, Dropout, BatchNormalization\n",
    "from keras.layers.convolutional import Conv2D,Conv1D\n",
    "from keras.layers.pooling import MaxPooling2D\n",
    "from keras.layers import Concatenate\n",
    "from keras.optimizers import Adam, SGD\n",
    "from keras.regularizers import l1, l2\n",
    "from matplotlib import pyplot as plt\n",
    "from tensorflow.keras import layers\n",
    "import tensorflow_addons as tfa"
   ]
  },
  {
   "cell_type": "code",
   "execution_count": 62,
   "id": "3545908b",
   "metadata": {},
   "outputs": [
    {
     "data": {
      "text/html": [
       "<div>\n",
       "<style scoped>\n",
       "    .dataframe tbody tr th:only-of-type {\n",
       "        vertical-align: middle;\n",
       "    }\n",
       "\n",
       "    .dataframe tbody tr th {\n",
       "        vertical-align: top;\n",
       "    }\n",
       "\n",
       "    .dataframe thead th {\n",
       "        text-align: right;\n",
       "    }\n",
       "</style>\n",
       "<table border=\"1\" class=\"dataframe\">\n",
       "  <thead>\n",
       "    <tr style=\"text-align: right;\">\n",
       "      <th></th>\n",
       "      <th>emotion</th>\n",
       "      <th>pixels</th>\n",
       "      <th>Usage</th>\n",
       "    </tr>\n",
       "  </thead>\n",
       "  <tbody>\n",
       "    <tr>\n",
       "      <th>0</th>\n",
       "      <td>0</td>\n",
       "      <td>70 80 82 72 58 58 60 63 54 58 60 48 89 115 121...</td>\n",
       "      <td>Training</td>\n",
       "    </tr>\n",
       "    <tr>\n",
       "      <th>1</th>\n",
       "      <td>0</td>\n",
       "      <td>151 150 147 155 148 133 111 140 170 174 182 15...</td>\n",
       "      <td>Training</td>\n",
       "    </tr>\n",
       "    <tr>\n",
       "      <th>2</th>\n",
       "      <td>2</td>\n",
       "      <td>231 212 156 164 174 138 161 173 182 200 106 38...</td>\n",
       "      <td>Training</td>\n",
       "    </tr>\n",
       "    <tr>\n",
       "      <th>3</th>\n",
       "      <td>4</td>\n",
       "      <td>24 32 36 30 32 23 19 20 30 41 21 22 32 34 21 1...</td>\n",
       "      <td>Training</td>\n",
       "    </tr>\n",
       "    <tr>\n",
       "      <th>4</th>\n",
       "      <td>6</td>\n",
       "      <td>4 0 0 0 0 0 0 0 0 0 0 0 3 15 23 28 48 50 58 84...</td>\n",
       "      <td>Training</td>\n",
       "    </tr>\n",
       "  </tbody>\n",
       "</table>\n",
       "</div>"
      ],
      "text/plain": [
       "   emotion                                             pixels     Usage\n",
       "0        0  70 80 82 72 58 58 60 63 54 58 60 48 89 115 121...  Training\n",
       "1        0  151 150 147 155 148 133 111 140 170 174 182 15...  Training\n",
       "2        2  231 212 156 164 174 138 161 173 182 200 106 38...  Training\n",
       "3        4  24 32 36 30 32 23 19 20 30 41 21 22 32 34 21 1...  Training\n",
       "4        6  4 0 0 0 0 0 0 0 0 0 0 0 3 15 23 28 48 50 58 84...  Training"
      ]
     },
     "execution_count": 62,
     "metadata": {},
     "output_type": "execute_result"
    }
   ],
   "source": [
    "df = pd.read_csv('./fer2013/fer2013.csv')\n",
    "df.head()"
   ]
  },
  {
   "cell_type": "code",
   "execution_count": 63,
   "id": "5d8db27e",
   "metadata": {},
   "outputs": [],
   "source": [
    "x_train = []\n",
    "y_train = []\n",
    "x_test = []\n",
    "y_test = []\n",
    "for index, row in df.iterrows():\n",
    "    k = row['pixels'].split(\" \")\n",
    "    if row['Usage'] == 'Training':\n",
    "        x_train.append(np.array(k))\n",
    "        y_train.append(row['emotion'])\n",
    "    elif row['Usage'] == 'PublicTest':\n",
    "        x_test.append(np.array(k))\n",
    "        y_test.append(row['emotion'])"
   ]
  },
  {
   "cell_type": "code",
   "execution_count": 64,
   "id": "3c0fc832",
   "metadata": {},
   "outputs": [],
   "source": [
    "x_train = np.array(x_train, dtype = 'uint8')\n",
    "y_train = np.array(y_train, dtype = 'uint8')\n",
    "x_test = np.array(x_test, dtype = 'uint8')\n",
    "y_test = np.array(y_test, dtype = 'uint8')"
   ]
  },
  {
   "cell_type": "code",
   "execution_count": 65,
   "id": "a8fdc791",
   "metadata": {},
   "outputs": [],
   "source": [
    "y_train= to_categorical(y_train, num_classes=7)\n",
    "y_test = to_categorical(y_test, num_classes=7)"
   ]
  },
  {
   "cell_type": "code",
   "execution_count": 66,
   "id": "733eeefb",
   "metadata": {},
   "outputs": [],
   "source": [
    "x_train = x_train.reshape(x_train.shape[0], 48, 48, 1)\n",
    "x_test = x_test.reshape(x_test.shape[0], 48, 48, 1)\n",
    "x_train = np.stack((x_train,)*3, axis=4)\n",
    "x_train = x_train.reshape(x_train.shape[0],48,48,3)\n",
    "x_test = np.stack((x_test,)*3, axis=4)\n",
    "x_test = x_test.reshape(x_test.shape[0],48,48,3)"
   ]
  },
  {
   "cell_type": "code",
   "execution_count": 67,
   "id": "f7bd5eb0",
   "metadata": {},
   "outputs": [
    {
     "name": "stdout",
     "output_type": "stream",
     "text": [
      "x_train shape: (28709, 48, 48, 3) - y_train shape: (28709, 7)\n",
      "x_test shape: (3589, 48, 48, 3) - y_test shape: (3589, 7)\n"
     ]
    }
   ],
   "source": [
    "print(f\"x_train shape: {x_train.shape} - y_train shape: {y_train.shape}\")\n",
    "print(f\"x_test shape: {x_test.shape} - y_test shape: {y_test.shape}\")"
   ]
  },
  {
   "cell_type": "code",
   "execution_count": 74,
   "id": "6cbb5a29",
   "metadata": {},
   "outputs": [],
   "source": [
    "validation_dataset = (x_test,y_test)"
   ]
  },
  {
   "cell_type": "code",
   "execution_count": 48,
   "id": "1abe0769",
   "metadata": {},
   "outputs": [],
   "source": [
    "# datagen\n",
    "datagen = ImageDataGenerator( \n",
    "    rescale=1./255,\n",
    "    rotation_range = 30,\n",
    "    horizontal_flip = True,\n",
    "    width_shift_range=0.2,\n",
    "    height_shift_range=0.2,\n",
    "    fill_mode = 'nearest',\n",
    "    )\n",
    "\n",
    "datagen.fit(x_train)\n",
    "testgen = ImageDataGenerator(rescale=1./255)"
   ]
  },
  {
   "cell_type": "code",
   "execution_count": 49,
   "id": "82c320e2",
   "metadata": {},
   "outputs": [],
   "source": [
    "batch_size = 32\n",
    "train_flow = datagen.flow(x_train, y_train, batch_size=batch_size) \n",
    "test_flow = testgen.flow(x_test, y_test, batch_size=batch_size)"
   ]
  },
  {
   "cell_type": "code",
   "execution_count": 76,
   "id": "6157ad61",
   "metadata": {},
   "outputs": [],
   "source": [
    "image_size = 120\n",
    "data_augmentation = keras.Sequential(\n",
    "    [\n",
    "        layers.Normalization(),\n",
    "        layers.Resizing(image_size, image_size),\n",
    "        layers.RandomFlip(\"horizontal\"),\n",
    "        layers.RandomRotation(factor=0.30),\n",
    "        layers.RandomZoom(\n",
    "           height_factor=0.2, width_factor=0.2\n",
    "        ),\n",
    "        layers.RandomWidth(0.2),\n",
    "        layers.RandomHeight(0.2),\n",
    "    ],\n",
    "    name=\"data_augmentation\",\n",
    ")\n",
    "# Compute the mean and the variance of the training data for normalization.\n",
    "data_augmentation.layers[0].adapt(x_train)"
   ]
  },
  {
   "cell_type": "code",
   "execution_count": 81,
   "id": "e8aa875c",
   "metadata": {},
   "outputs": [],
   "source": [
    "#model\n",
    "from keras.applications import VGG19, VGG16, Xception, ResNet50V2, ResNet152V2, ResNet50\n",
    "\n",
    "base_model = keras.applications.ResNet50V2(\n",
    "#base_model = keras.applications.VGG19(\n",
    "    weights='imagenet',  # Load weights pre-trained on ImageNet.\n",
    "    #weights = None,  # Load weights pre-trained on ImageNet.\n",
    "    #input shape for resnet\n",
    "    input_shape=(120, 120, 3),\n",
    "    #input shape for vgg19\n",
    "    #input_shape=(48, 48, 3),\n",
    "    include_top=False)"
   ]
  },
  {
   "cell_type": "code",
   "execution_count": 82,
   "id": "68a31aa0",
   "metadata": {},
   "outputs": [],
   "source": [
    "base_model.trainable = True\n",
    "num_classes = 7\n",
    "inputs = keras.Input(shape=(48, 48, 3))\n",
    "augmented = data_augmentation(inputs)\n",
    "x = base_model(augmented, training=True)\n",
    "#for the resnet50 model global pooling used\n",
    "x = keras.layers.GlobalAveragePooling2D()(x)\n",
    "outputs = keras.layers.Dense(num_classes, activation='softmax')(x)\n",
    "model = keras.Model(inputs, outputs)"
   ]
  },
  {
   "cell_type": "code",
   "execution_count": 58,
   "id": "59b037c3",
   "metadata": {},
   "outputs": [],
   "source": [
    "checkpoint_filepath = \"./tmp-cnn/checkpoint-model-ResNet50V2-adam-datagen\"\n",
    "checkpoint_callback = keras.callbacks.ModelCheckpoint(\n",
    "    checkpoint_filepath,\n",
    "    monitor=\"val_accuracy\",\n",
    "    save_best_only=True,\n",
    "    save_weights_only=True,\n",
    "    mode='max'\n",
    ")"
   ]
  },
  {
   "cell_type": "code",
   "execution_count": 31,
   "id": "efb8eeae",
   "metadata": {},
   "outputs": [
    {
     "name": "stdout",
     "output_type": "stream",
     "text": [
      "Epoch 1/100\n",
      "898/898 [==============================] - 211s 228ms/step - loss: 1.4740 - accuracy: 0.4313 - top-5-accuracy: 0.9470 - val_loss: 1.2768 - val_accuracy: 0.5107 - val_top-5-accuracy: 0.9666\n",
      "Epoch 2/100\n",
      "898/898 [==============================] - 142s 158ms/step - loss: 1.2501 - accuracy: 0.5243 - top-5-accuracy: 0.9703 - val_loss: 1.1919 - val_accuracy: 0.5483 - val_top-5-accuracy: 0.9769\n",
      "Epoch 3/100\n",
      "898/898 [==============================] - 134s 149ms/step - loss: 1.1691 - accuracy: 0.5556 - top-5-accuracy: 0.9779 - val_loss: 1.1550 - val_accuracy: 0.5659 - val_top-5-accuracy: 0.9777\n",
      "Epoch 4/100\n",
      "898/898 [==============================] - 132s 148ms/step - loss: 1.1198 - accuracy: 0.5773 - top-5-accuracy: 0.9799 - val_loss: 1.1002 - val_accuracy: 0.5815 - val_top-5-accuracy: 0.9819\n",
      "Epoch 5/100\n",
      "898/898 [==============================] - 130s 145ms/step - loss: 1.0808 - accuracy: 0.5949 - top-5-accuracy: 0.9817 - val_loss: 1.0926 - val_accuracy: 0.5946 - val_top-5-accuracy: 0.9797\n",
      "Epoch 6/100\n",
      "898/898 [==============================] - 129s 143ms/step - loss: 1.0507 - accuracy: 0.6057 - top-5-accuracy: 0.9844 - val_loss: 1.0535 - val_accuracy: 0.6021 - val_top-5-accuracy: 0.9797\n",
      "Epoch 7/100\n",
      "898/898 [==============================] - 127s 142ms/step - loss: 1.0318 - accuracy: 0.6110 - top-5-accuracy: 0.9861 - val_loss: 1.0562 - val_accuracy: 0.6063 - val_top-5-accuracy: 0.9819\n",
      "Epoch 8/100\n",
      "898/898 [==============================] - 127s 141ms/step - loss: 1.0151 - accuracy: 0.6199 - top-5-accuracy: 0.9859 - val_loss: 1.0584 - val_accuracy: 0.6069 - val_top-5-accuracy: 0.9813\n",
      "Epoch 9/100\n",
      "898/898 [==============================] - 126s 140ms/step - loss: 0.9966 - accuracy: 0.6244 - top-5-accuracy: 0.9859 - val_loss: 1.0634 - val_accuracy: 0.6138 - val_top-5-accuracy: 0.9827\n",
      "Epoch 10/100\n",
      "898/898 [==============================] - 128s 142ms/step - loss: 0.9758 - accuracy: 0.6332 - top-5-accuracy: 0.9874 - val_loss: 1.0071 - val_accuracy: 0.6294 - val_top-5-accuracy: 0.9850\n",
      "Epoch 11/100\n",
      "898/898 [==============================] - 125s 139ms/step - loss: 0.9682 - accuracy: 0.6368 - top-5-accuracy: 0.9876 - val_loss: 1.0150 - val_accuracy: 0.6199 - val_top-5-accuracy: 0.9836\n",
      "Epoch 12/100\n",
      "898/898 [==============================] - 125s 139ms/step - loss: 0.9433 - accuracy: 0.6466 - top-5-accuracy: 0.9892 - val_loss: 1.0236 - val_accuracy: 0.6222 - val_top-5-accuracy: 0.9844\n",
      "Epoch 13/100\n",
      "898/898 [==============================] - 125s 139ms/step - loss: 0.9325 - accuracy: 0.6518 - top-5-accuracy: 0.9892 - val_loss: 1.0222 - val_accuracy: 0.6239 - val_top-5-accuracy: 0.9844\n",
      "Epoch 14/100\n",
      "898/898 [==============================] - 126s 140ms/step - loss: 0.9169 - accuracy: 0.6568 - top-5-accuracy: 0.9906 - val_loss: 1.0078 - val_accuracy: 0.6356 - val_top-5-accuracy: 0.9847\n",
      "Epoch 15/100\n",
      "898/898 [==============================] - 125s 139ms/step - loss: 0.9007 - accuracy: 0.6599 - top-5-accuracy: 0.9908 - val_loss: 1.0119 - val_accuracy: 0.6275 - val_top-5-accuracy: 0.9844\n",
      "Epoch 16/100\n",
      "898/898 [==============================] - 125s 139ms/step - loss: 0.8917 - accuracy: 0.6661 - top-5-accuracy: 0.9903 - val_loss: 1.0103 - val_accuracy: 0.6303 - val_top-5-accuracy: 0.9852\n",
      "Epoch 17/100\n",
      "898/898 [==============================] - 125s 139ms/step - loss: 0.8797 - accuracy: 0.6686 - top-5-accuracy: 0.9915 - val_loss: 0.9990 - val_accuracy: 0.6336 - val_top-5-accuracy: 0.9852\n",
      "Epoch 18/100\n",
      "898/898 [==============================] - 126s 140ms/step - loss: 0.8655 - accuracy: 0.6767 - top-5-accuracy: 0.9920 - val_loss: 0.9936 - val_accuracy: 0.6381 - val_top-5-accuracy: 0.9861\n",
      "Epoch 19/100\n",
      "898/898 [==============================] - 125s 139ms/step - loss: 0.8577 - accuracy: 0.6769 - top-5-accuracy: 0.9923 - val_loss: 0.9874 - val_accuracy: 0.6344 - val_top-5-accuracy: 0.9872\n",
      "Epoch 20/100\n",
      "898/898 [==============================] - 126s 141ms/step - loss: 0.8418 - accuracy: 0.6841 - top-5-accuracy: 0.9938 - val_loss: 1.0018 - val_accuracy: 0.6322 - val_top-5-accuracy: 0.9858\n",
      "Epoch 21/100\n",
      "898/898 [==============================] - 125s 139ms/step - loss: 0.8345 - accuracy: 0.6894 - top-5-accuracy: 0.9935 - val_loss: 1.0055 - val_accuracy: 0.6278 - val_top-5-accuracy: 0.9863\n",
      "Epoch 22/100\n",
      "898/898 [==============================] - 126s 141ms/step - loss: 0.8195 - accuracy: 0.6937 - top-5-accuracy: 0.9938 - val_loss: 0.9843 - val_accuracy: 0.6378 - val_top-5-accuracy: 0.9861\n",
      "Epoch 23/100\n",
      "898/898 [==============================] - 128s 143ms/step - loss: 0.8144 - accuracy: 0.6928 - top-5-accuracy: 0.9938 - val_loss: 0.9800 - val_accuracy: 0.6397 - val_top-5-accuracy: 0.9872\n",
      "Epoch 24/100\n",
      "898/898 [==============================] - 125s 140ms/step - loss: 0.7970 - accuracy: 0.7031 - top-5-accuracy: 0.9941 - val_loss: 0.9871 - val_accuracy: 0.6431 - val_top-5-accuracy: 0.9852\n",
      "Epoch 25/100\n",
      "898/898 [==============================] - 125s 139ms/step - loss: 0.7904 - accuracy: 0.7044 - top-5-accuracy: 0.9941 - val_loss: 0.9584 - val_accuracy: 0.6537 - val_top-5-accuracy: 0.9883\n",
      "Epoch 26/100\n",
      "898/898 [==============================] - 125s 140ms/step - loss: 0.7763 - accuracy: 0.7111 - top-5-accuracy: 0.9946 - val_loss: 0.9645 - val_accuracy: 0.6489 - val_top-5-accuracy: 0.9891\n",
      "Epoch 27/100\n",
      "898/898 [==============================] - 125s 140ms/step - loss: 0.7667 - accuracy: 0.7100 - top-5-accuracy: 0.9954 - val_loss: 0.9847 - val_accuracy: 0.6473 - val_top-5-accuracy: 0.9875\n",
      "Epoch 28/100\n",
      "898/898 [==============================] - 125s 139ms/step - loss: 0.7596 - accuracy: 0.7128 - top-5-accuracy: 0.9953 - val_loss: 0.9962 - val_accuracy: 0.6389 - val_top-5-accuracy: 0.9872\n",
      "Epoch 29/100\n",
      "898/898 [==============================] - 125s 140ms/step - loss: 0.7462 - accuracy: 0.7212 - top-5-accuracy: 0.9962 - val_loss: 0.9987 - val_accuracy: 0.6397 - val_top-5-accuracy: 0.9858\n",
      "Epoch 30/100\n",
      "898/898 [==============================] - 125s 140ms/step - loss: 0.7391 - accuracy: 0.7238 - top-5-accuracy: 0.9959 - val_loss: 0.9772 - val_accuracy: 0.6517 - val_top-5-accuracy: 0.9852\n",
      "Epoch 31/100\n",
      "898/898 [==============================] - 126s 140ms/step - loss: 0.7245 - accuracy: 0.7294 - top-5-accuracy: 0.9965 - val_loss: 0.9906 - val_accuracy: 0.6520 - val_top-5-accuracy: 0.9861\n",
      "Epoch 32/100\n",
      "898/898 [==============================] - 127s 142ms/step - loss: 0.7156 - accuracy: 0.7302 - top-5-accuracy: 0.9962 - val_loss: 1.0004 - val_accuracy: 0.6473 - val_top-5-accuracy: 0.9855\n",
      "Epoch 33/100\n",
      "898/898 [==============================] - 125s 139ms/step - loss: 0.7063 - accuracy: 0.7354 - top-5-accuracy: 0.9965 - val_loss: 0.9976 - val_accuracy: 0.6475 - val_top-5-accuracy: 0.9869\n",
      "Epoch 34/100\n",
      "898/898 [==============================] - 124s 138ms/step - loss: 0.6947 - accuracy: 0.7395 - top-5-accuracy: 0.9960 - val_loss: 1.0080 - val_accuracy: 0.6514 - val_top-5-accuracy: 0.9883\n",
      "Epoch 35/100\n",
      "898/898 [==============================] - 124s 138ms/step - loss: 0.6818 - accuracy: 0.7433 - top-5-accuracy: 0.9966 - val_loss: 1.0045 - val_accuracy: 0.6495 - val_top-5-accuracy: 0.9850\n",
      "Epoch 36/100\n",
      "898/898 [==============================] - 128s 142ms/step - loss: 0.6768 - accuracy: 0.7465 - top-5-accuracy: 0.9972 - val_loss: 0.9832 - val_accuracy: 0.6565 - val_top-5-accuracy: 0.9863\n",
      "Epoch 37/100\n",
      "898/898 [==============================] - 127s 141ms/step - loss: 0.6643 - accuracy: 0.7544 - top-5-accuracy: 0.9971 - val_loss: 0.9923 - val_accuracy: 0.6606 - val_top-5-accuracy: 0.9861\n",
      "Epoch 38/100\n",
      "898/898 [==============================] - 126s 140ms/step - loss: 0.6567 - accuracy: 0.7529 - top-5-accuracy: 0.9974 - val_loss: 1.0437 - val_accuracy: 0.6506 - val_top-5-accuracy: 0.9880\n",
      "Epoch 39/100\n",
      "898/898 [==============================] - 126s 141ms/step - loss: 0.6474 - accuracy: 0.7599 - top-5-accuracy: 0.9977 - val_loss: 1.0048 - val_accuracy: 0.6592 - val_top-5-accuracy: 0.9877\n",
      "Epoch 40/100\n",
      "898/898 [==============================] - 126s 141ms/step - loss: 0.6345 - accuracy: 0.7629 - top-5-accuracy: 0.9977 - val_loss: 1.0342 - val_accuracy: 0.6578 - val_top-5-accuracy: 0.9872\n",
      "Epoch 41/100\n",
      "898/898 [==============================] - 127s 141ms/step - loss: 0.6227 - accuracy: 0.7674 - top-5-accuracy: 0.9979 - val_loss: 1.0106 - val_accuracy: 0.6631 - val_top-5-accuracy: 0.9883\n",
      "Epoch 42/100\n",
      "898/898 [==============================] - 124s 138ms/step - loss: 0.6177 - accuracy: 0.7699 - top-5-accuracy: 0.9976 - val_loss: 1.0237 - val_accuracy: 0.6548 - val_top-5-accuracy: 0.9858\n",
      "Epoch 43/100\n",
      "898/898 [==============================] - 125s 139ms/step - loss: 0.6079 - accuracy: 0.7736 - top-5-accuracy: 0.9976 - val_loss: 1.0377 - val_accuracy: 0.6601 - val_top-5-accuracy: 0.9824\n",
      "Epoch 44/100\n",
      "898/898 [==============================] - 125s 139ms/step - loss: 0.5954 - accuracy: 0.7776 - top-5-accuracy: 0.9984 - val_loss: 1.0340 - val_accuracy: 0.6556 - val_top-5-accuracy: 0.9880\n",
      "Epoch 45/100\n",
      "898/898 [==============================] - 125s 139ms/step - loss: 0.5877 - accuracy: 0.7810 - top-5-accuracy: 0.9978 - val_loss: 1.0338 - val_accuracy: 0.6556 - val_top-5-accuracy: 0.9883\n",
      "Epoch 46/100\n",
      "898/898 [==============================] - 125s 139ms/step - loss: 0.5737 - accuracy: 0.7836 - top-5-accuracy: 0.9985 - val_loss: 1.0844 - val_accuracy: 0.6539 - val_top-5-accuracy: 0.9855\n",
      "Epoch 47/100\n",
      "898/898 [==============================] - 126s 141ms/step - loss: 0.5649 - accuracy: 0.7895 - top-5-accuracy: 0.9983 - val_loss: 1.0711 - val_accuracy: 0.6695 - val_top-5-accuracy: 0.9855\n",
      "Epoch 48/100\n",
      "898/898 [==============================] - 124s 139ms/step - loss: 0.5560 - accuracy: 0.7954 - top-5-accuracy: 0.9987 - val_loss: 1.0568 - val_accuracy: 0.6615 - val_top-5-accuracy: 0.9889\n",
      "Epoch 49/100\n",
      "898/898 [==============================] - 127s 141ms/step - loss: 0.5442 - accuracy: 0.7962 - top-5-accuracy: 0.9986 - val_loss: 1.0770 - val_accuracy: 0.6573 - val_top-5-accuracy: 0.9861\n",
      "Epoch 50/100\n",
      "898/898 [==============================] - 126s 140ms/step - loss: 0.5334 - accuracy: 0.7999 - top-5-accuracy: 0.9986 - val_loss: 1.1242 - val_accuracy: 0.6587 - val_top-5-accuracy: 0.9861\n",
      "Epoch 51/100\n",
      "898/898 [==============================] - 127s 141ms/step - loss: 0.5315 - accuracy: 0.8008 - top-5-accuracy: 0.9986 - val_loss: 1.0954 - val_accuracy: 0.6626 - val_top-5-accuracy: 0.9852\n",
      "Epoch 52/100\n",
      "898/898 [==============================] - 126s 140ms/step - loss: 0.5167 - accuracy: 0.8096 - top-5-accuracy: 0.9987 - val_loss: 1.1035 - val_accuracy: 0.6648 - val_top-5-accuracy: 0.9855\n",
      "Epoch 53/100\n",
      "898/898 [==============================] - 125s 140ms/step - loss: 0.5074 - accuracy: 0.8118 - top-5-accuracy: 0.9989 - val_loss: 1.1148 - val_accuracy: 0.6673 - val_top-5-accuracy: 0.9833\n",
      "Epoch 54/100\n",
      "898/898 [==============================] - 126s 141ms/step - loss: 0.4979 - accuracy: 0.8149 - top-5-accuracy: 0.9991 - val_loss: 1.1199 - val_accuracy: 0.6643 - val_top-5-accuracy: 0.9850\n",
      "Epoch 55/100\n",
      "898/898 [==============================] - 125s 140ms/step - loss: 0.4953 - accuracy: 0.8161 - top-5-accuracy: 0.9992 - val_loss: 1.1571 - val_accuracy: 0.6576 - val_top-5-accuracy: 0.9813\n",
      "Epoch 56/100\n",
      "898/898 [==============================] - 127s 141ms/step - loss: 0.4891 - accuracy: 0.8169 - top-5-accuracy: 0.9992 - val_loss: 1.1148 - val_accuracy: 0.6673 - val_top-5-accuracy: 0.9830\n",
      "Epoch 57/100\n",
      "898/898 [==============================] - 125s 139ms/step - loss: 0.4811 - accuracy: 0.8213 - top-5-accuracy: 0.9991 - val_loss: 1.1142 - val_accuracy: 0.6587 - val_top-5-accuracy: 0.9858\n",
      "Epoch 58/100\n",
      "898/898 [==============================] - 124s 138ms/step - loss: 0.4708 - accuracy: 0.8250 - top-5-accuracy: 0.9995 - val_loss: 1.1782 - val_accuracy: 0.6523 - val_top-5-accuracy: 0.9847\n",
      "Epoch 59/100\n",
      "898/898 [==============================] - 124s 138ms/step - loss: 0.4677 - accuracy: 0.8243 - top-5-accuracy: 0.9991 - val_loss: 1.1663 - val_accuracy: 0.6592 - val_top-5-accuracy: 0.9850\n",
      "Epoch 60/100\n",
      "898/898 [==============================] - 125s 139ms/step - loss: 0.4465 - accuracy: 0.8336 - top-5-accuracy: 0.9996 - val_loss: 1.2064 - val_accuracy: 0.6584 - val_top-5-accuracy: 0.9844\n",
      "Epoch 61/100\n",
      "898/898 [==============================] - 125s 139ms/step - loss: 0.4450 - accuracy: 0.8344 - top-5-accuracy: 0.9994 - val_loss: 1.1787 - val_accuracy: 0.6548 - val_top-5-accuracy: 0.9841\n",
      "Epoch 62/100\n",
      "898/898 [==============================] - 128s 143ms/step - loss: 0.4325 - accuracy: 0.8378 - top-5-accuracy: 0.9992 - val_loss: 1.1708 - val_accuracy: 0.6615 - val_top-5-accuracy: 0.9861\n",
      "Epoch 63/100\n",
      "898/898 [==============================] - 125s 139ms/step - loss: 0.4230 - accuracy: 0.8418 - top-5-accuracy: 0.9993 - val_loss: 1.2163 - val_accuracy: 0.6598 - val_top-5-accuracy: 0.9836\n",
      "Epoch 64/100\n",
      "898/898 [==============================] - 125s 140ms/step - loss: 0.4180 - accuracy: 0.8453 - top-5-accuracy: 0.9993 - val_loss: 1.2019 - val_accuracy: 0.6695 - val_top-5-accuracy: 0.9855\n",
      "Epoch 65/100\n",
      "898/898 [==============================] - 125s 139ms/step - loss: 0.4153 - accuracy: 0.8452 - top-5-accuracy: 0.9995 - val_loss: 1.2046 - val_accuracy: 0.6631 - val_top-5-accuracy: 0.9838\n",
      "Epoch 66/100\n",
      "898/898 [==============================] - 125s 139ms/step - loss: 0.4042 - accuracy: 0.8495 - top-5-accuracy: 0.9996 - val_loss: 1.1964 - val_accuracy: 0.6690 - val_top-5-accuracy: 0.9844\n",
      "Epoch 67/100\n",
      "898/898 [==============================] - 125s 139ms/step - loss: 0.3895 - accuracy: 0.8557 - top-5-accuracy: 0.9996 - val_loss: 1.2607 - val_accuracy: 0.6620 - val_top-5-accuracy: 0.9833\n",
      "Epoch 68/100\n",
      "898/898 [==============================] - 125s 139ms/step - loss: 0.3932 - accuracy: 0.8557 - top-5-accuracy: 0.9995 - val_loss: 1.2396 - val_accuracy: 0.6676 - val_top-5-accuracy: 0.9847\n",
      "Epoch 69/100\n",
      "898/898 [==============================] - 124s 138ms/step - loss: 0.3810 - accuracy: 0.8570 - top-5-accuracy: 0.9996 - val_loss: 1.2937 - val_accuracy: 0.6581 - val_top-5-accuracy: 0.9850\n",
      "Epoch 70/100\n",
      "898/898 [==============================] - 122s 136ms/step - loss: 0.3760 - accuracy: 0.8607 - top-5-accuracy: 0.9997 - val_loss: 1.2780 - val_accuracy: 0.6634 - val_top-5-accuracy: 0.9819\n",
      "Epoch 71/100\n",
      "898/898 [==============================] - 123s 137ms/step - loss: 0.3626 - accuracy: 0.8648 - top-5-accuracy: 0.9998 - val_loss: 1.2780 - val_accuracy: 0.6567 - val_top-5-accuracy: 0.9844\n",
      "Epoch 72/100\n",
      "898/898 [==============================] - 122s 136ms/step - loss: 0.3569 - accuracy: 0.8676 - top-5-accuracy: 0.9996 - val_loss: 1.2873 - val_accuracy: 0.6609 - val_top-5-accuracy: 0.9844\n",
      "Epoch 73/100\n",
      "898/898 [==============================] - 125s 140ms/step - loss: 0.3576 - accuracy: 0.8680 - top-5-accuracy: 0.9994 - val_loss: 1.2675 - val_accuracy: 0.6670 - val_top-5-accuracy: 0.9844\n",
      "Epoch 74/100\n",
      "898/898 [==============================] - 127s 141ms/step - loss: 0.3502 - accuracy: 0.8702 - top-5-accuracy: 0.9998 - val_loss: 1.3140 - val_accuracy: 0.6693 - val_top-5-accuracy: 0.9863\n",
      "Epoch 75/100\n",
      "898/898 [==============================] - 125s 139ms/step - loss: 0.3402 - accuracy: 0.8715 - top-5-accuracy: 0.9998 - val_loss: 1.2995 - val_accuracy: 0.6676 - val_top-5-accuracy: 0.9855\n",
      "Epoch 76/100\n",
      "898/898 [==============================] - 125s 139ms/step - loss: 0.3374 - accuracy: 0.8736 - top-5-accuracy: 0.9999 - val_loss: 1.3235 - val_accuracy: 0.6620 - val_top-5-accuracy: 0.9855\n",
      "Epoch 77/100\n",
      "898/898 [==============================] - 125s 139ms/step - loss: 0.3337 - accuracy: 0.8749 - top-5-accuracy: 0.9998 - val_loss: 1.3562 - val_accuracy: 0.6648 - val_top-5-accuracy: 0.9811\n",
      "Epoch 78/100\n",
      "898/898 [==============================] - 125s 139ms/step - loss: 0.3242 - accuracy: 0.8809 - top-5-accuracy: 0.9999 - val_loss: 1.3347 - val_accuracy: 0.6556 - val_top-5-accuracy: 0.9841\n",
      "Epoch 79/100\n",
      "898/898 [==============================] - 126s 140ms/step - loss: 0.3210 - accuracy: 0.8802 - top-5-accuracy: 0.9997 - val_loss: 1.3092 - val_accuracy: 0.6612 - val_top-5-accuracy: 0.9852\n",
      "Epoch 80/100\n",
      "898/898 [==============================] - 126s 140ms/step - loss: 0.3143 - accuracy: 0.8856 - top-5-accuracy: 0.9998 - val_loss: 1.3758 - val_accuracy: 0.6668 - val_top-5-accuracy: 0.9833\n",
      "Epoch 81/100\n",
      "898/898 [==============================] - 126s 141ms/step - loss: 0.3088 - accuracy: 0.8874 - top-5-accuracy: 0.9999 - val_loss: 1.3264 - val_accuracy: 0.6768 - val_top-5-accuracy: 0.9833\n"
     ]
    },
    {
     "name": "stdout",
     "output_type": "stream",
     "text": [
      "Epoch 82/100\n",
      "898/898 [==============================] - 127s 142ms/step - loss: 0.3031 - accuracy: 0.8886 - top-5-accuracy: 0.9998 - val_loss: 1.3618 - val_accuracy: 0.6656 - val_top-5-accuracy: 0.9824\n",
      "Epoch 83/100\n",
      "898/898 [==============================] - 126s 140ms/step - loss: 0.2971 - accuracy: 0.8909 - top-5-accuracy: 0.9998 - val_loss: 1.3576 - val_accuracy: 0.6623 - val_top-5-accuracy: 0.9819\n",
      "Epoch 84/100\n",
      "898/898 [==============================] - 125s 139ms/step - loss: 0.3000 - accuracy: 0.8894 - top-5-accuracy: 0.9999 - val_loss: 1.3356 - val_accuracy: 0.6654 - val_top-5-accuracy: 0.9838\n",
      "Epoch 85/100\n",
      "898/898 [==============================] - 126s 140ms/step - loss: 0.2843 - accuracy: 0.8962 - top-5-accuracy: 0.9998 - val_loss: 1.3708 - val_accuracy: 0.6673 - val_top-5-accuracy: 0.9850\n",
      "Epoch 86/100\n",
      "898/898 [==============================] - 127s 142ms/step - loss: 0.2872 - accuracy: 0.8955 - top-5-accuracy: 0.9998 - val_loss: 1.3762 - val_accuracy: 0.6682 - val_top-5-accuracy: 0.9850\n",
      "Epoch 87/100\n",
      "898/898 [==============================] - 128s 142ms/step - loss: 0.2762 - accuracy: 0.9002 - top-5-accuracy: 0.9996 - val_loss: 1.3644 - val_accuracy: 0.6682 - val_top-5-accuracy: 0.9827\n",
      "Epoch 88/100\n",
      "898/898 [==============================] - 126s 140ms/step - loss: 0.2830 - accuracy: 0.8957 - top-5-accuracy: 0.9998 - val_loss: 1.3892 - val_accuracy: 0.6670 - val_top-5-accuracy: 0.9838\n",
      "Epoch 89/100\n",
      "898/898 [==============================] - 126s 140ms/step - loss: 0.2686 - accuracy: 0.9014 - top-5-accuracy: 0.9998 - val_loss: 1.3886 - val_accuracy: 0.6651 - val_top-5-accuracy: 0.9816\n",
      "Epoch 90/100\n",
      "898/898 [==============================] - 125s 139ms/step - loss: 0.2629 - accuracy: 0.9040 - top-5-accuracy: 0.9998 - val_loss: 1.4431 - val_accuracy: 0.6729 - val_top-5-accuracy: 0.9844\n",
      "Epoch 91/100\n",
      "898/898 [==============================] - 125s 139ms/step - loss: 0.2590 - accuracy: 0.9033 - top-5-accuracy: 0.9999 - val_loss: 1.4579 - val_accuracy: 0.6682 - val_top-5-accuracy: 0.9855\n",
      "Epoch 92/100\n",
      "898/898 [==============================] - 125s 140ms/step - loss: 0.2608 - accuracy: 0.9014 - top-5-accuracy: 0.9998 - val_loss: 1.4012 - val_accuracy: 0.6709 - val_top-5-accuracy: 0.9830\n",
      "Epoch 93/100\n",
      "898/898 [==============================] - 125s 139ms/step - loss: 0.2510 - accuracy: 0.9076 - top-5-accuracy: 0.9999 - val_loss: 1.4806 - val_accuracy: 0.6643 - val_top-5-accuracy: 0.9791\n",
      "Epoch 94/100\n",
      "898/898 [==============================] - 125s 139ms/step - loss: 0.2564 - accuracy: 0.9053 - top-5-accuracy: 1.0000 - val_loss: 1.4703 - val_accuracy: 0.6634 - val_top-5-accuracy: 0.9785\n",
      "Epoch 95/100\n",
      "898/898 [==============================] - 125s 139ms/step - loss: 0.2543 - accuracy: 0.9061 - top-5-accuracy: 0.9999 - val_loss: 1.4961 - val_accuracy: 0.6645 - val_top-5-accuracy: 0.9802\n",
      "Epoch 96/100\n",
      "898/898 [==============================] - 125s 139ms/step - loss: 0.2454 - accuracy: 0.9102 - top-5-accuracy: 0.9999 - val_loss: 1.4814 - val_accuracy: 0.6590 - val_top-5-accuracy: 0.9811\n",
      "Epoch 97/100\n",
      "898/898 [==============================] - 127s 142ms/step - loss: 0.2450 - accuracy: 0.9105 - top-5-accuracy: 0.9999 - val_loss: 1.4752 - val_accuracy: 0.6690 - val_top-5-accuracy: 0.9833\n",
      "Epoch 98/100\n",
      "898/898 [==============================] - 125s 139ms/step - loss: 0.2430 - accuracy: 0.9105 - top-5-accuracy: 1.0000 - val_loss: 1.4556 - val_accuracy: 0.6656 - val_top-5-accuracy: 0.9830\n",
      "Epoch 99/100\n",
      "898/898 [==============================] - 125s 139ms/step - loss: 0.2359 - accuracy: 0.9147 - top-5-accuracy: 0.9999 - val_loss: 1.4968 - val_accuracy: 0.6712 - val_top-5-accuracy: 0.9827\n",
      "Epoch 100/100\n",
      "898/898 [==============================] - 125s 139ms/step - loss: 0.2328 - accuracy: 0.9133 - top-5-accuracy: 1.0000 - val_loss: 1.4867 - val_accuracy: 0.6679 - val_top-5-accuracy: 0.9850\n",
      "113/113 [==============================] - 4s 33ms/step - loss: 1.3264 - accuracy: 0.6768 - top-5-accuracy: 0.9833\n",
      "Test accuracy: 67.68%\n",
      "Test top 5 accuracy: 98.33%\n"
     ]
    }
   ],
   "source": [
    "batch_size = 32\n",
    "num_epochs = 100\n",
    "def run_experiment(model):\n",
    "    optimizer = tfa.optimizers.AdamW(learning_rate=0.0001, weight_decay=1e-6)\n",
    "    #optimizer = tf.keras.optimizers.SGD(lr=0.0001, momentum=0.9)\n",
    "    model.compile(\n",
    "        optimizer=optimizer,\n",
    "        loss=keras.losses.CategoricalCrossentropy(\n",
    "            #from_logits=True, label_smoothing=0.1\n",
    "        ),\n",
    "        metrics=[\n",
    "            keras.metrics.CategoricalAccuracy(name=\"accuracy\"),\n",
    "            keras.metrics.TopKCategoricalAccuracy(5, name=\"top-5-accuracy\"),\n",
    "        ],\n",
    "    )\n",
    "    checkpoint_filepath = \"./tmp-cnn/checkpoint-model-ResNet50V2-AdamW-pretrained-100epoch-run-2\"\n",
    "    checkpoint_callback = keras.callbacks.ModelCheckpoint(\n",
    "        checkpoint_filepath,\n",
    "        monitor=\"val_accuracy\",\n",
    "        save_best_only=True,\n",
    "        save_weights_only=True,\n",
    "    )\n",
    "    #reduce_lr = keras.callbacks.ReduceLROnPlateau(monitor='val_loss', patience=5, min_lr=1e-6, factor=0.75)\n",
    "    #checkpoint_filepath_prev = \"./tmp-cnn/checkpoint-model-ResNet50V2-aug\"\n",
    "    #model.load_weights(checkpoint_filepath)\n",
    "    history = model.fit(\n",
    "        x=x_train,\n",
    "        y=y_train,\n",
    "        batch_size=batch_size,\n",
    "        epochs=num_epochs,\n",
    "        validation_data=validation_dataset,\n",
    "        callbacks=[checkpoint_callback],\n",
    "    )\n",
    "\n",
    "    model.load_weights(checkpoint_filepath)\n",
    "    _, accuracy, top_5_accuracy = model.evaluate(x_test, y_test)\n",
    "    print(f\"Test accuracy: {round(accuracy * 100, 2)}%\")\n",
    "    print(f\"Test top 5 accuracy: {round(top_5_accuracy * 100, 2)}%\")\n",
    "\n",
    "    return history\n",
    "\n",
    "\n",
    "\n",
    "history = run_experiment(model)\n"
   ]
  },
  {
   "cell_type": "code",
   "execution_count": 164,
   "id": "eb017a8a",
   "metadata": {},
   "outputs": [
    {
     "data": {
      "text/plain": [
       "<tensorflow.python.training.tracking.util.CheckpointLoadStatus at 0x16eceaf92e0>"
      ]
     },
     "execution_count": 164,
     "metadata": {},
     "output_type": "execute_result"
    }
   ],
   "source": [
    "model.load_weights(checkpoint_filepath)"
   ]
  },
  {
   "cell_type": "code",
   "execution_count": 61,
   "id": "eaa88e5f",
   "metadata": {},
   "outputs": [
    {
     "name": "stdout",
     "output_type": "stream",
     "text": [
      "113/113 [==============================] - 2s 20ms/step - loss: 1.3620 - accuracy: 0.6539\n",
      "[1.3620240688323975, 0.6539425849914551]\n"
     ]
    }
   ],
   "source": [
    "print(model.evaluate(test_flow))"
   ]
  },
  {
   "cell_type": "code",
   "execution_count": 137,
   "id": "2b15047a",
   "metadata": {},
   "outputs": [
    {
     "data": {
      "image/png": "[encoded data removed]",
      "text/plain": [
       "<Figure size 432x288 with 1 Axes>"
      ]
     },
     "metadata": {
      "needs_background": "light"
     },
     "output_type": "display_data"
    }
   ],
   "source": [
    "# history for VGG19, accuracy is used but miss typed as loss\n",
    "plt.plot(history.history[\"accuracy\"], label=\"train_loss\")\n",
    "plt.plot(history.history['val_accuracy'], label=\"val_loss\")\n",
    "plt.xlabel(\"Epochs\")\n",
    "plt.ylabel(\"Loss\")\n",
    "plt.title(\"Train and Validation Losses Over Epochs\", fontsize=14)\n",
    "plt.legend()\n",
    "plt.grid()\n",
    "plt.show()"
   ]
  },
  {
   "cell_type": "code",
   "execution_count": 60,
   "id": "61d45dcb",
   "metadata": {},
   "outputs": [
    {
     "data": {
      "image/png": "[encoded data removed]",
      "text/plain": [
       "<Figure size 432x288 with 1 Axes>"
      ]
     },
     "metadata": {
      "needs_background": "light"
     },
     "output_type": "display_data"
    }
   ],
   "source": [
    "# history for Resnet50, accuracy is used but miss typed as loss\n",
    "plt.plot(history.history[\"accuracy\"], label=\"train_loss\")\n",
    "plt.plot(history.history['val_accuracy'], label=\"val_loss\")\n",
    "plt.xlabel(\"Epochs\")\n",
    "plt.ylabel(\"Loss\")\n",
    "plt.title(\"Train and Validation Losses Over Epochs\", fontsize=14)\n",
    "plt.legend()\n",
    "plt.grid()\n",
    "plt.show()"
   ]
  },
  {
   "cell_type": "code",
   "execution_count": null,
   "id": "68b1c0ae",
   "metadata": {},
   "outputs": [],
   "source": [
    "checkpoint_filepath = \"./tmp-cnn/checkpoint-model-vgg-trainable\"\n",
    "model.load_weights(checkpoint_filepath)"
   ]
  },
  {
   "cell_type": "code",
   "execution_count": 83,
   "id": "ff627bb3",
   "metadata": {},
   "outputs": [
    {
     "data": {
      "text/plain": [
       "<tensorflow.python.training.tracking.util.CheckpointLoadStatus at 0x1ec63bbce20>"
      ]
     },
     "execution_count": 83,
     "metadata": {},
     "output_type": "execute_result"
    }
   ],
   "source": [
    "checkpoint_filepath = \"./tmp-cnn/checkpoint-model-ResNet50V2-AdamW-pretrained-100epoch-run-2\"\n",
    "model.load_weights(checkpoint_filepath)"
   ]
  },
  {
   "cell_type": "code",
   "execution_count": 90,
   "id": "2e61d5c1",
   "metadata": {},
   "outputs": [
    {
     "name": "stdout",
     "output_type": "stream",
     "text": [
      "113/113 [==============================] - 3s 31ms/step\n"
     ]
    }
   ],
   "source": [
    "y_pred = model.predict(x_test)"
   ]
  },
  {
   "cell_type": "code",
   "execution_count": 91,
   "id": "2a6b3e2a",
   "metadata": {},
   "outputs": [
    {
     "name": "stdout",
     "output_type": "stream",
     "text": [
      "[[268   7  34  20  84  14  40]\n",
      " [  9  35   1   2   7   0   2]\n",
      " [ 45   4 239  15 102  42  49]\n",
      " [ 24   0   9 779  21  17  45]\n",
      " [ 59   2  66  23 397  19  87]\n",
      " [  5   0  29  13  16 337  15]\n",
      " [ 37   2  26  61  95  12 374]]\n"
     ]
    }
   ],
   "source": [
    "from sklearn.metrics import confusion_matrix\n",
    "matrix = confusion_matrix(y_test.argmax(axis=1), y_pred.argmax(axis=1))\n",
    "print(matrix)"
   ]
  },
  {
   "cell_type": "code",
   "execution_count": 92,
   "id": "49df025d",
   "metadata": {},
   "outputs": [],
   "source": [
    "from sklearn import metrics\n",
    "cm_display = metrics.ConfusionMatrixDisplay(confusion_matrix = matrix, display_labels = ['Angry','Disgust','Fear','Happy','Sad','Surprise','Neutral'])"
   ]
  },
  {
   "cell_type": "code",
   "execution_count": 93,
   "id": "412c3250",
   "metadata": {},
   "outputs": [
    {
     "data": {
      "image/png": "[encoded data removed]",
      "text/plain": [
       "<Figure size 720x720 with 2 Axes>"
      ]
     },
     "metadata": {
      "needs_background": "light"
     },
     "output_type": "display_data"
    }
   ],
   "source": [
    "cm_display.plot()\n",
    "plt.rcParams[\"figure.figsize\"] = (10,10)\n",
    "plt.show()"
   ]
  },
  {
   "cell_type": "code",
   "execution_count": 94,
   "id": "04e3cfca",
   "metadata": {},
   "outputs": [],
   "source": [
    "from sklearn.metrics import classification_report"
   ]
  },
  {
   "cell_type": "code",
   "execution_count": 95,
   "id": "c7b091df",
   "metadata": {},
   "outputs": [
    {
     "name": "stdout",
     "output_type": "stream",
     "text": [
      "              precision    recall  f1-score   support\n",
      "\n",
      "           0       0.60      0.57      0.59       467\n",
      "           1       0.70      0.62      0.66        56\n",
      "           2       0.59      0.48      0.53       496\n",
      "           3       0.85      0.87      0.86       895\n",
      "           4       0.55      0.61      0.58       653\n",
      "           5       0.76      0.81      0.79       415\n",
      "           6       0.61      0.62      0.61       607\n",
      "\n",
      "    accuracy                           0.68      3589\n",
      "   macro avg       0.67      0.66      0.66      3589\n",
      "weighted avg       0.68      0.68      0.67      3589\n",
      "\n"
     ]
    }
   ],
   "source": [
    "print(classification_report(y_test.argmax(axis=1), y_pred.argmax(axis=1)))"
   ]
  }
 ],
 "metadata": {
  "kernelspec": {
   "display_name": "Python 3 (ipykernel)",
   "language": "python",
   "name": "python3"
  },
  "language_info": {
   "codemirror_mode": {
    "name": "ipython",
    "version": 3
   },
   "file_extension": ".py",
   "mimetype": "text/x-python",
   "name": "python",
   "nbconvert_exporter": "python",
   "pygments_lexer": "ipython3",
   "version": "3.8.13"
  }
 },
 "nbformat": 4,
 "nbformat_minor": 5
}
